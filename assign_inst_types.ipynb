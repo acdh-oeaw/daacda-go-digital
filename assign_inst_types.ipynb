{
 "cells": [
  {
   "cell_type": "code",
   "execution_count": null,
   "metadata": {},
   "outputs": [],
   "source": [
    "# create vocabs"
   ]
  },
  {
   "cell_type": "code",
   "execution_count": null,
   "metadata": {},
   "outputs": [],
   "source": [
    "inst_type_scheme, _ = SkosConceptScheme.objects.get_or_create(dc_title=\"inst_type\")"
   ]
  },
  {
   "cell_type": "code",
   "execution_count": null,
   "metadata": {},
   "outputs": [],
   "source": [
    "br_term, _ = SkosConcept.objects.get_or_create(pref_label=\"airforce\")\n",
    "for x in ['airforce division', 'bomb group', 'squadroon']:\n",
    "    conc, _ = SkosConcept.objects.get_or_create(pref_label=x)\n",
    "    conc.broader_concept = br_term\n",
    "    conc.scheme.add(inst_type_scheme)\n",
    "    conc.save()"
   ]
  },
  {
   "cell_type": "code",
   "execution_count": null,
   "metadata": {},
   "outputs": [],
   "source": [
    "af = SkosConcept.objects.get(pref_label=\"airforce division\")\n",
    "bg = SkosConcept.objects.get(pref_label=\"bomb group\")\n",
    "sqd = SkosConcept.objects.get(pref_label=\"squadroon\")"
   ]
  },
  {
   "cell_type": "code",
   "execution_count": null,
   "metadata": {},
   "outputs": [],
   "source": [
    "for x in Institution.objects.all():\n",
    "    if x.children_institutions.all().count() > 0 and x.parent_institution:\n",
    "        x.inst_type = bg\n",
    "    elif x.children_institutions.all().count():\n",
    "        x.inst_type = af\n",
    "    else:\n",
    "        x.inst_type = sqd\n",
    "    x.save()\n",
    "        "
   ]
  },
  {
   "cell_type": "code",
   "execution_count": null,
   "metadata": {},
   "outputs": [],
   "source": []
  }
 ],
 "metadata": {
  "kernelspec": {
   "display_name": "Django Shell-Plus",
   "language": "python",
   "name": "django_extensions"
  },
  "language_info": {
   "codemirror_mode": {
    "name": "ipython",
    "version": 3
   },
   "file_extension": ".py",
   "mimetype": "text/x-python",
   "name": "python",
   "nbconvert_exporter": "python",
   "pygments_lexer": "ipython3",
   "version": "3.7.1"
  }
 },
 "nbformat": 4,
 "nbformat_minor": 2
}
