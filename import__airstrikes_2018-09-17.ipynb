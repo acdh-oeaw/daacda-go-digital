{
 "cells": [
  {
   "cell_type": "code",
   "execution_count": 1,
   "metadata": {},
   "outputs": [],
   "source": [
    "import pandas as pd\n",
    "from django.core.exceptions import ObjectDoesNotExist"
   ]
  },
  {
   "cell_type": "code",
   "execution_count": 2,
   "metadata": {},
   "outputs": [],
   "source": [
    "file = \"data/airstrikes_2018-09-17.xlsx\""
   ]
  },
  {
   "cell_type": "code",
   "execution_count": 3,
   "metadata": {},
   "outputs": [],
   "source": [
    "df = pd.read_excel(file).fillna('False')"
   ]
  },
  {
   "cell_type": "code",
   "execution_count": 4,
   "metadata": {},
   "outputs": [],
   "source": [
    "plane_type_scheme, _ = SkosConceptScheme.objects.get_or_create(\n",
    "    dc_title='plane_type'\n",
    ")"
   ]
  },
  {
   "cell_type": "code",
   "execution_count": 5,
   "metadata": {},
   "outputs": [],
   "source": [
    "for i, row in df.iterrows():\n",
    "    airstrike, _ = Airstrike.objects.get_or_create(\n",
    "        date=row['Tag']\n",
    "    )\n",
    " \n",
    "    if row['Tag'] != 'False':\n",
    "        airstrike.date = row['Tag']\n",
    "    \n",
    "    if row['Ziel (A)'] != 'False':\n",
    "        target, _ = Place.objects.get_or_create(\n",
    "            name=row['Ziel (A)']\n",
    "        )\n",
    "        airstrike.target = target\n",
    "       \n",
    "    if row['Flgz'] != 'False':\n",
    "        plane_type, _ = SkosConcept.objects.get_or_create(\n",
    "            pref_label=row['Flgz']\n",
    "        )\n",
    "        plane_type.scheme.set([plane_type_scheme])\n",
    "        airstrike.plane_type = plane_type\n",
    "    \n",
    "    if row['Anzahl (ungenaue Schätzung)'] != 'False':\n",
    "        airstrike.number_of_planes = row['Anzahl (ungenaue Schätzung)']\n",
    "               \n",
    "    airstrike.save()"
   ]
  },
  {
   "cell_type": "code",
   "execution_count": null,
   "metadata": {},
   "outputs": [],
   "source": []
  }
 ],
 "metadata": {
  "kernelspec": {
   "display_name": "Django Shell-Plus",
   "language": "python",
   "name": "django_extensions"
  },
  "language_info": {
   "codemirror_mode": {
    "name": "ipython",
    "version": 3
   },
   "file_extension": ".py",
   "mimetype": "text/x-python",
   "name": "python",
   "nbconvert_exporter": "python",
   "pygments_lexer": "ipython3",
   "version": "3.6.5"
  }
 },
 "nbformat": 4,
 "nbformat_minor": 2
}
