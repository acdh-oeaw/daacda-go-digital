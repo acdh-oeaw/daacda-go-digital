{
 "cells": [
  {
   "cell_type": "code",
   "execution_count": null,
   "metadata": {},
   "outputs": [],
   "source": [
    "import pandas as pd\n",
    "from django.core.exceptions import ObjectDoesNotExist"
   ]
  },
  {
   "cell_type": "code",
   "execution_count": null,
   "metadata": {},
   "outputs": [],
   "source": [
    "file = \"data/war_crimes_list_2018-06-04.xlsx\""
   ]
  },
  {
   "cell_type": "code",
   "execution_count": null,
   "metadata": {},
   "outputs": [],
   "source": [
    "df = pd.read_excel(file).fillna('False')"
   ]
  },
  {
   "cell_type": "code",
   "execution_count": null,
   "metadata": {},
   "outputs": [],
   "source": [
    "relation_by_crime_scheme, _ = SkosConceptScheme.objects.get_or_create(\n",
    "    dc_title='crime'\n",
    ")\n",
    "relation_type_scheme, _ = SkosConceptScheme.objects.get_or_create(\n",
    "    dc_title='person_warcase_relation_type'\n",
    ")"
   ]
  },
  {
   "cell_type": "code",
   "execution_count": null,
   "metadata": {},
   "outputs": [],
   "source": [
    "issues = []\n",
    "for i, row in df.iterrows():\n",
    "    try:\n",
    "        pers = Person.objects.get(dog_tag=row['Dienstnummer'])\n",
    "    except ObjectDoesNotExist:\n",
    "        pers = None\n",
    "        issues.append(row)\n",
    "    if row['Nummer'] != 'False' and pers:\n",
    "        case, _ = WarCrimeCase.objects.get_or_create(\n",
    "            legacy_id=row['Nummer']\n",
    "        )\n",
    "        pw, _ = PersonWarCrimeCase.objects.get_or_create(\n",
    "            legacy_id=row['ID']\n",
    "        )\n",
    "        pw.related_person = pers\n",
    "        pw.related_case = case\n",
    "        pw.save()\n",
    "        if row['Zeitpunkt'] != 'False':\n",
    "            start_date = None\n",
    "            try:\n",
    "                start_date = pd.to_datetime(row['Zeitpunkt'], dayfirst=True)\n",
    "            except:\n",
    "                start_date = None\n",
    "            if start_date:\n",
    "                pw.start_date = start_date\n",
    "        \n",
    "        if row['Einordung (Opfer/Zeuge)'] != 'False':\n",
    "            relation_type, _ = SkosConcept.objects.get_or_create(\n",
    "                pref_label=row['Einordung (Opfer/Zeuge)']\n",
    "            )\n",
    "            relation_type.scheme.set([relation_type_scheme])\n",
    "            pw.relation_type = relation_type\n",
    "        \n",
    "        if row['Art Verbrechen'] != 'False':\n",
    "            relation_by_crime, _ = SkosConcept.objects.get_or_create(\n",
    "                pref_label=row['Art Verbrechen']\n",
    "            )\n",
    "            relation_by_crime.scheme.set([relation_by_crime_scheme])\n",
    "            pw.relation_by_crime = relation_by_crime\n",
    "        \n",
    "        if row['Anmerkung'] != 'False':\n",
    "            pw.comment = row['Anmerkung']\n",
    "        signatur = None\n",
    "        if row['Cases Tried'] != 'False' and row['Cases Not Tried']:\n",
    "            signatur = \"{}|{}\".format(row['Cases Tried'], row['Cases Not Tried'])\n",
    "        elif row['Cases Tried'] != 'False':\n",
    "            signatur = row['Cases Tried']\n",
    "        else:\n",
    "            signatur = row['Cases Not Tried']\n",
    "        if signatur:\n",
    "            case.signatur = signatur \n",
    "            case.save()\n",
    "        pw.save()\n",
    "        "
   ]
  },
  {
   "cell_type": "code",
   "execution_count": null,
   "metadata": {},
   "outputs": [],
   "source": [
    "len(issues)"
   ]
  },
  {
   "cell_type": "code",
   "execution_count": null,
   "metadata": {},
   "outputs": [],
   "source": []
  }
 ],
 "metadata": {
  "kernelspec": {
   "display_name": "Django Shell-Plus",
   "language": "python",
   "name": "django_extensions"
  },
  "language_info": {
   "codemirror_mode": {
    "name": "ipython",
    "version": 3
   },
   "file_extension": ".py",
   "mimetype": "text/x-python",
   "name": "python",
   "nbconvert_exporter": "python",
   "pygments_lexer": "ipython3",
   "version": "3.6.2"
  }
 },
 "nbformat": 4,
 "nbformat_minor": 2
}
