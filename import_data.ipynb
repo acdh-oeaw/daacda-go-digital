{
 "cells": [
  {
   "cell_type": "code",
   "execution_count": 1,
   "metadata": {},
   "outputs": [],
   "source": [
    "import pandas as pd"
   ]
  },
  {
   "cell_type": "code",
   "execution_count": 2,
   "metadata": {},
   "outputs": [],
   "source": [
    "file = \"data/marc_datenbank_170514.xlsx\""
   ]
  },
  {
   "cell_type": "code",
   "execution_count": 3,
   "metadata": {},
   "outputs": [],
   "source": [
    "df = pd.read_excel(file)"
   ]
  },
  {
   "cell_type": "code",
   "execution_count": 4,
   "metadata": {},
   "outputs": [],
   "source": [
    "df.fillna(value='False', inplace=True)"
   ]
  },
  {
   "cell_type": "code",
   "execution_count": 5,
   "metadata": {},
   "outputs": [],
   "source": [
    "# create concept scheme:\n",
    "# row['Bombertyp']\n",
    "plane_type_scheme, _ = SkosConceptScheme.objects.get_or_create(\n",
    "    dc_title='plane_type'\n",
    ")\n",
    "# row['Absturzursache']\n",
    "reason_of_crash_scheme, _ = SkosConceptScheme.objects.get_or_create(\n",
    "    dc_title='reason_of_crash'\n",
    ")"
   ]
  },
  {
   "cell_type": "code",
   "execution_count": 6,
   "metadata": {},
   "outputs": [],
   "source": [
    "for i, row in df.iterrows():\n",
    "    bomb, _ = Bomber.objects.get_or_create(\n",
    "        macr_nr=row['MACR-Nr']\n",
    "    )\n",
    "    sqr_wrt_name = \"{}__{}__{}\".format(\n",
    "        row['Air Force'], row['Bomber Group'], row['Squadron']\n",
    "    )\n",
    "    sqd, _ = Institution.objects.get_or_create(\n",
    "        legacy_id=sqr_wrt_name\n",
    "    )\n",
    "    sqd.written_name = \"{} {} {}\".format(\n",
    "        row['Air Force'], row['Bomber Group'], row['Squadron']\n",
    "    )\n",
    "    sqd.save()\n",
    "    bomb.squadron = sqd\n",
    "    \n",
    "    if row['Datum'] != 'False':\n",
    "        bomb.date_of_crash = row['Datum']\n",
    "    \n",
    "    if row['Angriffsziel'] != 'False':\n",
    "        target_place, _ = Place.objects.get_or_create(\n",
    "            name=row['Angriffsziel']\n",
    "        )\n",
    "        bomb.target_place = target_place\n",
    "    \n",
    "    if row['Sichtung-Ort'] != 'False':\n",
    "        last_seen, _ = Place.objects.get_or_create(\n",
    "            name=row['Sichtung-Ort']\n",
    "        )\n",
    "        bomb.last_seen = last_seen\n",
    "\n",
    "    if row['Absturzort'] != 'False':\n",
    "        crash_place, _ = Place.objects.get_or_create(\n",
    "            name=row['Absturzort']\n",
    "        )\n",
    "        bomb.crash_place = crash_place\n",
    "    \n",
    "    if row['Bombertyp'] != 'False':\n",
    "        plane_type, _ = SkosConcept.objects.get_or_create(\n",
    "            pref_label=row['Bombertyp']\n",
    "        )\n",
    "        plane_type.scheme.set([plane_type_scheme])\n",
    "        bomb.plane_type = plane_type\n",
    "    \n",
    "    if row['Bombername'] != 'False':\n",
    "        bomb.name = row['Bombername']\n",
    "    \n",
    "    if row['Absturzursache'] != 'False':\n",
    "        reason_of_crash, _ = SkosConcept.objects.get_or_create(\n",
    "            pref_label=row['Absturzursache']\n",
    "        )\n",
    "        reason_of_crash.scheme.set([reason_of_crash_scheme])\n",
    "        bomb.reason_of_crash = reason_of_crash\n",
    "     \n",
    "    bomb.save()"
   ]
  },
  {
   "cell_type": "code",
   "execution_count": 7,
   "metadata": {},
   "outputs": [],
   "source": [
    "#IdProvider.objects.all().delete()"
   ]
  },
  {
   "cell_type": "code",
   "execution_count": 8,
   "metadata": {},
   "outputs": [],
   "source": [
    "# create concept scheme:\n",
    "# row['Eintrag #']\n",
    "eintrag_scheme, _ = SkosConceptScheme.objects.get_or_create(\n",
    "    dc_title='eintrag'\n",
    ")\n",
    "# row['DG #']\n",
    "dg_scheme, _ = SkosConceptScheme.objects.get_or_create(\n",
    "    dc_title='dienstgrad'\n",
    ")\n",
    "# row['Erg #']\n",
    "erg_scheme, _ = SkosConceptScheme.objects.get_or_create(\n",
    "    dc_title='erg'\n",
    ")"
   ]
  },
  {
   "cell_type": "code",
   "execution_count": 9,
   "metadata": {},
   "outputs": [],
   "source": [
    "for x in range(1, 2):\n",
    "    position = x\n",
    "    for i, row in df.iterrows():\n",
    "        bomb, _ = Bomber.objects.get_or_create(\n",
    "            macr_nr=row['MACR-Nr']\n",
    "        )\n",
    "        name = \"Name {}\".format(position)\n",
    "        dg = \"DG {}\".format(position)\n",
    "        nr = \"Nr {}\".format(position)\n",
    "        eintrag = \"Eintrag {}\".format(position)\n",
    "        schicksal = \"Schicksal {}\".format(position)\n",
    "        erg = \"Erg {}\".format(position)\n",
    "        if row[nr] != 'False':\n",
    "            pers, _ = Person.objects.get_or_create(\n",
    "                dog_tag=row[nr]\n",
    "            )\n",
    "            pers.written_name =row[name]\n",
    "            pers.part_of_bomber = bomb\n",
    "            pers.save()\n",
    "\n",
    "            if row[eintrag] != 'False':\n",
    "                eintrag_c, _ = SkosConcept.objects.get_or_create(pref_label=row[eintrag])\n",
    "                eintrag_c.scheme.set([eintrag_scheme])\n",
    "                pers.destiny_stated = eintrag_c\n",
    "                pers.save()\n",
    "\n",
    "            if row[dg] != 'False':\n",
    "                dg_c, _ = SkosConcept.objects.get_or_create(pref_label=row[dg])\n",
    "                dg_c.scheme.set([dg_scheme])\n",
    "                pers.rank = dg_c\n",
    "                pers.save()\n",
    "\n",
    "            if row[erg] != 'False':\n",
    "                erg_c, _ = SkosConcept.objects.get_or_create(pref_label=row[erg])\n",
    "                erg_c.scheme.set([erg_scheme])\n",
    "                pers.destiny_checked = erg_c\n",
    "                pers.save()"
   ]
  },
  {
   "cell_type": "code",
   "execution_count": null,
   "metadata": {},
   "outputs": [],
   "source": []
  }
 ],
 "metadata": {
  "kernelspec": {
   "display_name": "Django Shell-Plus",
   "language": "python",
   "name": "django_extensions"
  },
  "language_info": {
   "codemirror_mode": {
    "name": "ipython",
    "version": 3
   },
   "file_extension": ".py",
   "mimetype": "text/x-python",
   "name": "python",
   "nbconvert_exporter": "python",
   "pygments_lexer": "ipython3",
   "version": "3.6.2"
  }
 },
 "nbformat": 4,
 "nbformat_minor": 2
}
