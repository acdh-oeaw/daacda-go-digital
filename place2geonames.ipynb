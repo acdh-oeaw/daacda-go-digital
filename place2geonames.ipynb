{
 "cells": [
  {
   "cell_type": "code",
   "execution_count": null,
   "metadata": {},
   "outputs": [],
   "source": [
    "import pandas as pd"
   ]
  },
  {
   "cell_type": "code",
   "execution_count": null,
   "metadata": {},
   "outputs": [],
   "source": [
    "file = \"data/places_place.csv\""
   ]
  },
  {
   "cell_type": "code",
   "execution_count": null,
   "metadata": {},
   "outputs": [],
   "source": [
    "df = pd.read_csv(file, dtype={'geonames': str})"
   ]
  },
  {
   "cell_type": "code",
   "execution_count": null,
   "metadata": {},
   "outputs": [],
   "source": [
    "df.fillna(value='False', inplace=True)"
   ]
  },
  {
   "cell_type": "code",
   "execution_count": null,
   "metadata": {},
   "outputs": [],
   "source": [
    "not_created = []\n",
    "for i, row in df.iterrows():\n",
    "    name = row['name'].strip()\n",
    "    #print(name)\n",
    "    try:\n",
    "        place = Place.objects.get(name=row['name'])\n",
    "    except Place.DoesNotExist:\n",
    "        not_created.append(row)\n",
    "        place = None\n",
    "    if place and row['lat'] != 'False':\n",
    "        place.lat = row['lat']\n",
    "        place.lng = row['lng']\n",
    "        place.save()\n",
    "    if place and row['geonames'] != 'False':\n",
    "        place.geonames_id = \"http://www.geonames.org/{}\".format(row['geonames'])\n",
    "        place.save()\n",
    "failed = pd.DataFrame(not_created)"
   ]
  },
  {
   "cell_type": "code",
   "execution_count": null,
   "metadata": {},
   "outputs": [],
   "source": [
    "failed.to_csv('data/failed.csv')"
   ]
  }
 ],
 "metadata": {
  "kernelspec": {
   "display_name": "Django Shell-Plus",
   "language": "python",
   "name": "django_extensions"
  },
  "language_info": {
   "codemirror_mode": {
    "name": "ipython",
    "version": 3
   },
   "file_extension": ".py",
   "mimetype": "text/x-python",
   "name": "python",
   "nbconvert_exporter": "python",
   "pygments_lexer": "ipython3",
   "version": "3.7.1"
  }
 },
 "nbformat": 4,
 "nbformat_minor": 2
}
