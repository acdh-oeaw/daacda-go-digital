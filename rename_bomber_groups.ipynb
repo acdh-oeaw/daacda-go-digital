{
 "cells": [
  {
   "cell_type": "code",
   "execution_count": null,
   "metadata": {},
   "outputs": [],
   "source": [
    "afs = Institution.objects.filter(legacy_id__icontains=\"__\")"
   ]
  },
  {
   "cell_type": "code",
   "execution_count": null,
   "metadata": {},
   "outputs": [],
   "source": [
    "for x in afs:\n",
    "    parts = x.legacy_id.split('__')\n",
    "    af, _ = Institution.objects.get_or_create(\n",
    "        legacy_id=\"__\".join(parts[:1])\n",
    "    )\n",
    "    af.written_name = parts[0]\n",
    "    af.save()\n",
    "    sq, _ = Institution.objects.get_or_create(\n",
    "        legacy_id=\"__\".join(parts[:2])\n",
    "    )\n",
    "    sq.written_name = \" \".join(parts[:2])\n",
    "    sq.parent_institution = af\n",
    "    sq.save()\n",
    "    x.parent_institution = sq\n",
    "    x.written_name = \" \".join(parts)\n",
    "    x.save()"
   ]
  },
  {
   "cell_type": "code",
   "execution_count": null,
   "metadata": {},
   "outputs": [],
   "source": []
  }
 ],
 "metadata": {
  "kernelspec": {
   "display_name": "Django Shell-Plus",
   "language": "python",
   "name": "django_extensions"
  },
  "language_info": {
   "codemirror_mode": {
    "name": "ipython",
    "version": 3
   },
   "file_extension": ".py",
   "mimetype": "text/x-python",
   "name": "python",
   "nbconvert_exporter": "python",
   "pygments_lexer": "ipython3",
   "version": "3.6.2"
  }
 },
 "nbformat": 4,
 "nbformat_minor": 2
}
