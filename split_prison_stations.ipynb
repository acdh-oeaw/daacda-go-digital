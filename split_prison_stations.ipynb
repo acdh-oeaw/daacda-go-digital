{
 "cells": [
  {
   "cell_type": "code",
   "execution_count": null,
   "metadata": {},
   "outputs": [],
   "source": [
    "import pandas as pd"
   ]
  },
  {
   "cell_type": "code",
   "execution_count": null,
   "metadata": {},
   "outputs": [],
   "source": [
    "ps = PrisonStation.objects.filter(name__contains=',')"
   ]
  },
  {
   "cell_type": "code",
   "execution_count": null,
   "metadata": {},
   "outputs": [],
   "source": [
    "for x in ps:\n",
    "    perspris = x.get_persons()\n",
    "    persons = [x.related_person for x in perspris]\n",
    "    stations = x.name.split(', ')\n",
    "    for st in stations:\n",
    "        prs, _ = PrisonStation.objects.get_or_create(\n",
    "            name=st\n",
    "        )\n",
    "        for y in persons:\n",
    "            pers_pris = PersonPrison.objects.get_or_create(\n",
    "                related_person=y,\n",
    "                related_prisonstation=prs\n",
    "            )\n",
    "#             print(pers_pris.count())\n",
    "    [x.delete() for x in perspris]\n",
    "        "
   ]
  }
 ],
 "metadata": {
  "kernelspec": {
   "display_name": "Django Shell-Plus",
   "language": "python",
   "name": "django_extensions"
  },
  "language_info": {
   "codemirror_mode": {
    "name": "ipython",
    "version": 3
   },
   "file_extension": ".py",
   "mimetype": "text/x-python",
   "name": "python",
   "nbconvert_exporter": "python",
   "pygments_lexer": "ipython3",
   "version": "3.7.0"
  }
 },
 "nbformat": 4,
 "nbformat_minor": 2
}
